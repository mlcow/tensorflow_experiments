{
 "cells": [
  {
   "cell_type": "code",
   "execution_count": 1,
   "metadata": {
    "collapsed": true
   },
   "outputs": [],
   "source": [
    "import tensorflow as tf\n",
    "import numpy as np\n",
    "import matplotlib.pyplot as plt"
   ]
  },
  {
   "cell_type": "code",
   "execution_count": 2,
   "metadata": {
    "collapsed": true
   },
   "outputs": [],
   "source": [
    "#c = tf.constant(1)\n",
    "#d = tf.Variable(1)"
   ]
  },
  {
   "cell_type": "markdown",
   "metadata": {},
   "source": [
    "* Linear regression.\n",
    "* Loss parametric of (w)\n",
    "* Compute gradients and update\n",
    "* Use optimizer to minimize loss\n",
    "* Use LinearRegression (estimator) to find a line\n",
    "* play and see how loss is effected\n",
    "* Create custom Estimator based on optimizer which can be used as a package\n",
    "\n",
    "* Redo the whole thing for various parametric forms. [[degree n]]"
   ]
  },
  {
   "cell_type": "markdown",
   "metadata": {},
   "source": [
    "# Data"
   ]
  },
  {
   "cell_type": "code",
   "execution_count": 73,
   "metadata": {},
   "outputs": [
    {
     "data": {
      "image/png": "[encoded data removed]",
      "text/plain": [
       "<matplotlib.figure.Figure at 0x11c415ed0>"
      ]
     },
     "metadata": {},
     "output_type": "display_data"
    }
   ],
   "source": [
    "X = np.linspace(-3, 2, 100)\n",
    "Y = X**4 + 2*X**3 - X**2 + X * 2 + 4 + np.random.normal(0, 1,X.size)\n",
    "plt.plot(X, Y, 'r.')\n",
    "plt.show()"
   ]
  },
  {
   "cell_type": "markdown",
   "metadata": {},
   "source": [
    "# numpy"
   ]
  },
  {
   "cell_type": "code",
   "execution_count": 4,
   "metadata": {
    "collapsed": true
   },
   "outputs": [],
   "source": [
    "p = 1\n",
    "_X = X.reshape(-1,1)\n",
    "X_input = np.hstack([_X**n for n in range(p + 1)])\n",
    "\n",
    "w = np.random.normal(0, 1, p + 1)\n",
    "\n",
    "Y_pred = X_input.dot(w)"
   ]
  },
  {
   "cell_type": "code",
   "execution_count": 5,
   "metadata": {},
   "outputs": [
    {
     "data": {
      "text/plain": [
       "((100,), (100, 2), (100,), (2,))"
      ]
     },
     "execution_count": 5,
     "metadata": {},
     "output_type": "execute_result"
    }
   ],
   "source": [
    "Y_pred.shape, X_input.shape, X.shape, w.shape"
   ]
  },
  {
   "cell_type": "code",
   "execution_count": 6,
   "metadata": {},
   "outputs": [
    {
     "data": {
      "image/png": "[encoded data removed]",
      "text/plain": [
       "<matplotlib.figure.Figure at 0x11bc78950>"
      ]
     },
     "metadata": {},
     "output_type": "display_data"
    }
   ],
   "source": [
    "plt.plot(X, Y, 'r.')\n",
    "plt.plot(X, Y_pred, 'b')\n",
    "plt.ylim(-3, 40)\n",
    "plt.show()"
   ]
  },
  {
   "cell_type": "markdown",
   "metadata": {},
   "source": [
    "### hstack"
   ]
  },
  {
   "cell_type": "code",
   "execution_count": 7,
   "metadata": {
    "collapsed": true
   },
   "outputs": [],
   "source": [
    "t=np.array([1,2,3,4]).reshape(-1,1)"
   ]
  },
  {
   "cell_type": "code",
   "execution_count": 8,
   "metadata": {},
   "outputs": [
    {
     "data": {
      "text/plain": [
       "array([[1, 1, 1],\n",
       "       [2, 2, 2],\n",
       "       [3, 3, 3],\n",
       "       [4, 4, 4]])"
      ]
     },
     "execution_count": 8,
     "metadata": {},
     "output_type": "execute_result"
    }
   ],
   "source": [
    "np.hstack([t,t,t])\n",
    "# hstack binds .. but the data should have been reshaped. It treats (x,) ~ vectors as (1,x) while joining them"
   ]
  },
  {
   "cell_type": "markdown",
   "metadata": {},
   "source": [
    "# TF -- scalars"
   ]
  },
  {
   "cell_type": "code",
   "execution_count": 9,
   "metadata": {},
   "outputs": [
    {
     "name": "stdout",
     "output_type": "stream",
     "text": [
      "<unknown>\n"
     ]
    }
   ],
   "source": [
    "# Define a single operation\n",
    "# Operation is on a placeholder\n",
    "x = tf.placeholder(dtype=tf.float32)\n",
    "y_pred = tf.placeholder(dtype=tf.float32)\n",
    "\n",
    "# variables\n",
    "b = tf.Variable([1], dtype=tf.float32)\n",
    "w = tf.Variable([-1], dtype=tf.float32)\n",
    "\n",
    "# y\n",
    "\n",
    "y = b + x * w\n",
    "print y.shape\n",
    "\n",
    "# loss\n",
    "error = y_pred - y\n",
    "loss = tf.reduce_sum(error ** 2)"
   ]
  },
  {
   "cell_type": "code",
   "execution_count": 10,
   "metadata": {
    "scrolled": true
   },
   "outputs": [
    {
     "data": {
      "image/png": "[encoded data removed]",
      "text/plain": [
       "<matplotlib.figure.Figure at 0x1111ae950>"
      ]
     },
     "metadata": {},
     "output_type": "display_data"
    }
   ],
   "source": [
    "res = None\n",
    "init = tf.global_variables_initializer()\n",
    "with tf.Session() as sess:\n",
    "    sess.run(init)\n",
    "    res = sess.run(y, {x: X})\n",
    "\n",
    "res.shape\n",
    "plt.plot(X, Y, 'r.')\n",
    "plt.plot(X, res, 'g')\n",
    "plt.show()"
   ]
  },
  {
   "cell_type": "markdown",
   "metadata": {},
   "source": [
    "### Optimizer"
   ]
  },
  {
   "cell_type": "code",
   "execution_count": 11,
   "metadata": {
    "collapsed": true
   },
   "outputs": [],
   "source": [
    "learning_rate = 1e-5\n",
    "gdo = tf.train.GradientDescentOptimizer(learning_rate)\n",
    "optimizer = gdo.minimize(loss)"
   ]
  },
  {
   "cell_type": "code",
   "execution_count": 12,
   "metadata": {},
   "outputs": [
    {
     "name": "stdout",
     "output_type": "stream",
     "text": [
      "[3.6584136] [6.046936]\n",
      "(100,) 45.11349609375\n"
     ]
    },
    {
     "data": {
      "image/png": "[encoded data removed]",
      "text/plain": [
       "<matplotlib.figure.Figure at 0x11c02fd50>"
      ]
     },
     "metadata": {},
     "output_type": "display_data"
    }
   ],
   "source": [
    "n_steps = 1000\n",
    "with tf.Session() as sess:\n",
    "    sess.run(init)\n",
    "    for i in range(n_steps):\n",
    "        (_, w_val, b_val) = sess.run((optimizer, w, b), {x: X, y_pred: Y})\n",
    "    print w_val, b_val\n",
    "    (res, loss_res) = sess.run((y, loss), {x: X, y_pred: Y})\n",
    "\n",
    "print res.shape, loss_res / X.shape[0]\n",
    "plt.plot(X, Y, 'r.')\n",
    "plt.plot(X, res, 'g')\n",
    "plt.show()"
   ]
  },
  {
   "cell_type": "markdown",
   "metadata": {},
   "source": [
    "## TF -- Scalar using LinearRegression"
   ]
  },
  {
   "cell_type": "code",
   "execution_count": 13,
   "metadata": {},
   "outputs": [
    {
     "name": "stdout",
     "output_type": "stream",
     "text": [
      "INFO:tensorflow:Using default config.\n",
      "WARNING:tensorflow:Using temporary folder as model directory: /var/folders/1k/0mbw6yb531v01963w262zblc682jgh/T/tmpqxkAjC\n",
      "INFO:tensorflow:Using config: {'_save_checkpoints_secs': 600, '_session_config': None, '_keep_checkpoint_max': 5, '_task_type': 'worker', '_is_chief': True, '_cluster_spec': <tensorflow.python.training.server_lib.ClusterSpec object at 0x11bc56090>, '_save_checkpoints_steps': None, '_keep_checkpoint_every_n_hours': 10000, '_service': None, '_num_ps_replicas': 0, '_tf_random_seed': None, '_master': '', '_num_worker_replicas': 1, '_task_id': 0, '_log_step_count_steps': 100, '_model_dir': '/var/folders/1k/0mbw6yb531v01963w262zblc682jgh/T/tmpqxkAjC', '_save_summary_steps': 100}\n",
      "INFO:tensorflow:Create CheckpointSaverHook.\n",
      "INFO:tensorflow:Saving checkpoints for 1 into /var/folders/1k/0mbw6yb531v01963w262zblc682jgh/T/tmpqxkAjC/model.ckpt.\n",
      "INFO:tensorflow:loss = 1616.9121, step = 1\n",
      "INFO:tensorflow:global_step/sec: 1048.35\n",
      "INFO:tensorflow:loss = 498.90216, step = 101 (0.097 sec)\n",
      "INFO:tensorflow:global_step/sec: 1429.55\n",
      "INFO:tensorflow:loss = 375.0212, step = 201 (0.070 sec)\n",
      "INFO:tensorflow:global_step/sec: 1408.29\n",
      "INFO:tensorflow:loss = 876.16705, step = 301 (0.071 sec)\n",
      "INFO:tensorflow:global_step/sec: 1386.25\n",
      "INFO:tensorflow:loss = 120.9501, step = 401 (0.072 sec)\n",
      "INFO:tensorflow:global_step/sec: 1330.33\n",
      "INFO:tensorflow:loss = 646.1009, step = 501 (0.076 sec)\n",
      "INFO:tensorflow:global_step/sec: 1428.43\n",
      "INFO:tensorflow:loss = 39.72796, step = 601 (0.070 sec)\n",
      "INFO:tensorflow:global_step/sec: 1400.62\n",
      "INFO:tensorflow:loss = 469.54492, step = 701 (0.071 sec)\n",
      "INFO:tensorflow:global_step/sec: 1268.13\n",
      "INFO:tensorflow:loss = 1261.2625, step = 801 (0.079 sec)\n",
      "INFO:tensorflow:global_step/sec: 1400.5\n",
      "INFO:tensorflow:loss = 520.22925, step = 901 (0.071 sec)\n",
      "INFO:tensorflow:Saving checkpoints for 1000 into /var/folders/1k/0mbw6yb531v01963w262zblc682jgh/T/tmpqxkAjC/model.ckpt.\n",
      "INFO:tensorflow:Loss for final step: 128.24817.\n"
     ]
    },
    {
     "data": {
      "text/plain": [
       "<tensorflow.python.estimator.canned.linear.LinearRegressor at 0x11c02f610>"
      ]
     },
     "execution_count": 13,
     "metadata": {},
     "output_type": "execute_result"
    }
   ],
   "source": [
    "feature_columns = [tf.feature_column.numeric_column(\"X\")]\n",
    "lr = tf.estimator.LinearRegressor(feature_columns=feature_columns)\n",
    "input_fn = tf.estimator.inputs.numpy_input_fn({\"X\": X}, Y, batch_size=10, num_epochs=100, shuffle=True)\n",
    "lr.train(input_fn=input_fn)"
   ]
  },
  {
   "cell_type": "code",
   "execution_count": 14,
   "metadata": {},
   "outputs": [
    {
     "name": "stdout",
     "output_type": "stream",
     "text": [
      "INFO:tensorflow:Starting evaluation at 2018-01-19-12:05:35\n",
      "INFO:tensorflow:Restoring parameters from /var/folders/1k/0mbw6yb531v01963w262zblc682jgh/T/tmpqxkAjC/model.ckpt-1000\n",
      "INFO:tensorflow:Finished evaluation at 2018-01-19-12:05:35\n",
      "INFO:tensorflow:Saving dict for global step 1000: average_loss = 43.976906, global_step = 1000, loss = 4397.6904\n",
      "INFO:tensorflow:Restoring parameters from /var/folders/1k/0mbw6yb531v01963w262zblc682jgh/T/tmpqxkAjC/model.ckpt-1000\n",
      "(100, 1) 43.976906\n"
     ]
    },
    {
     "data": {
      "image/png": "[encoded data removed]",
      "text/plain": [
       "<matplotlib.figure.Figure at 0x11c89fed0>"
      ]
     },
     "metadata": {},
     "output_type": "display_data"
    }
   ],
   "source": [
    "predict_input_fn = tf.estimator.inputs.numpy_input_fn({\"X\": X}, Y, shuffle=False)\n",
    "loss_res = (lr.evaluate(input_fn=predict_input_fn))[\"average_loss\"] \n",
    "res = np.array([i[\"predictions\"] for i in lr.predict(input_fn=predict_input_fn)])\n",
    "print res.shape, loss_res\n",
    "plt.plot(X, Y, 'r.')\n",
    "plt.plot(X, res, 'g')\n",
    "plt.show()"
   ]
  },
  {
   "cell_type": "code",
   "execution_count": 15,
   "metadata": {},
   "outputs": [
    {
     "data": {
      "text/plain": [
       "[('global_step', 1000),\n",
       " ('linear/linear_model/X/weights', array([[3.7679884]], dtype=float32)),\n",
       " ('linear/linear_model/X/weights/part_0/Ftrl',\n",
       "  array([[11263181.]], dtype=float32)),\n",
       " ('linear/linear_model/X/weights/part_0/Ftrl_1',\n",
       "  array([[-63228.098]], dtype=float32)),\n",
       " ('linear/linear_model/bias_weights', array([6.658148], dtype=float32)),\n",
       " ('linear/linear_model/bias_weights/part_0/Ftrl',\n",
       "  array([3789563.5], dtype=float32)),\n",
       " ('linear/linear_model/bias_weights/part_0/Ftrl_1',\n",
       "  array([-64806.418], dtype=float32))]"
      ]
     },
     "execution_count": 15,
     "metadata": {},
     "output_type": "execute_result"
    }
   ],
   "source": [
    "[(i, lr.get_variable_value(i)) for i in lr.get_variable_names()]\n"
   ]
  },
  {
   "cell_type": "code",
   "execution_count": 16,
   "metadata": {
    "collapsed": true
   },
   "outputs": [],
   "source": [
    "def model_funx(features, labels, mode, params=None):\n",
    "    \n",
    "    w = tf.get_variable('w', [1], dtype=tf.float64)\n",
    "    b = tf.get_variable('b', [1], dtype=tf.float64)\n",
    "    x = features['X']\n",
    "    y = w * x + b\n",
    "    \n",
    "    predictions = y\n",
    "    \n",
    "    if mode == tf.estimator.ModeKeys.PREDICT:\n",
    "        return tf.estimator.EstimatorSpec(\n",
    "        mode=mode,\n",
    "        predictions=predictions,\n",
    "        loss=None,\n",
    "        train_op=None\n",
    "    )\n",
    "    \n",
    "    loss = tf.reduce_sum(tf.square(y-labels)) / tf.cast(tf.shape(y), dtype=tf.float64)\n",
    "    global_step = tf.train.get_global_step()\n",
    "\n",
    "    optimizer = tf.train.GradientDescentOptimizer(params.get(\"learning_rate\",0.2))\n",
    "    train_op = tf.group(optimizer.minimize(loss), tf.assign_add(global_step, 1))\n",
    "    \n",
    "    return tf.estimator.EstimatorSpec(\n",
    "        mode=mode,\n",
    "        predictions=predictions,\n",
    "        loss=loss,\n",
    "        train_op=train_op\n",
    "    )"
   ]
  },
  {
   "cell_type": "code",
   "execution_count": 17,
   "metadata": {},
   "outputs": [
    {
     "name": "stdout",
     "output_type": "stream",
     "text": [
      "INFO:tensorflow:Using default config.\n",
      "WARNING:tensorflow:Using temporary folder as model directory: /var/folders/1k/0mbw6yb531v01963w262zblc682jgh/T/tmp68LhDU\n",
      "INFO:tensorflow:Using config: {'_save_checkpoints_secs': 600, '_session_config': None, '_keep_checkpoint_max': 5, '_task_type': 'worker', '_is_chief': True, '_cluster_spec': <tensorflow.python.training.server_lib.ClusterSpec object at 0x11bf0e990>, '_save_checkpoints_steps': None, '_keep_checkpoint_every_n_hours': 10000, '_service': None, '_num_ps_replicas': 0, '_tf_random_seed': None, '_master': '', '_num_worker_replicas': 1, '_task_id': 0, '_log_step_count_steps': 100, '_model_dir': '/var/folders/1k/0mbw6yb531v01963w262zblc682jgh/T/tmp68LhDU', '_save_summary_steps': 100}\n",
      "INFO:tensorflow:Create CheckpointSaverHook.\n",
      "INFO:tensorflow:Saving checkpoints for 1 into /var/folders/1k/0mbw6yb531v01963w262zblc682jgh/T/tmp68LhDU/model.ckpt.\n",
      "INFO:tensorflow:loss = 27.930361934451717, step = 1\n",
      "INFO:tensorflow:global_step/sec: 1267.41\n",
      "INFO:tensorflow:loss = 11.110410286156956, step = 101 (0.081 sec)\n",
      "INFO:tensorflow:global_step/sec: 1406.12\n",
      "INFO:tensorflow:loss = 7.860289919990677, step = 201 (0.071 sec)\n",
      "INFO:tensorflow:global_step/sec: 1465.03\n",
      "INFO:tensorflow:loss = 66.1134440580093, step = 301 (0.068 sec)\n",
      "INFO:tensorflow:global_step/sec: 1488.36\n",
      "INFO:tensorflow:loss = 47.791467032485, step = 401 (0.068 sec)\n",
      "INFO:tensorflow:global_step/sec: 1402.82\n",
      "INFO:tensorflow:loss = 50.15894334635882, step = 501 (0.071 sec)\n",
      "INFO:tensorflow:global_step/sec: 1435.03\n",
      "INFO:tensorflow:loss = 80.04624061717433, step = 601 (0.070 sec)\n",
      "INFO:tensorflow:global_step/sec: 1366.31\n",
      "INFO:tensorflow:loss = 39.2341625456544, step = 701 (0.073 sec)\n",
      "INFO:tensorflow:global_step/sec: 1410.3\n",
      "INFO:tensorflow:loss = 70.47003967277891, step = 801 (0.071 sec)\n",
      "INFO:tensorflow:global_step/sec: 1426.37\n",
      "INFO:tensorflow:loss = 31.764971266030898, step = 901 (0.070 sec)\n",
      "INFO:tensorflow:Saving checkpoints for 1001 into /var/folders/1k/0mbw6yb531v01963w262zblc682jgh/T/tmp68LhDU/model.ckpt.\n",
      "INFO:tensorflow:Loss for final step: 46.86886261218251.\n",
      "INFO:tensorflow:Restoring parameters from /var/folders/1k/0mbw6yb531v01963w262zblc682jgh/T/tmp68LhDU/model.ckpt-1001\n",
      "INFO:tensorflow:Starting evaluation at 2018-01-19-12:05:38\n",
      "INFO:tensorflow:Restoring parameters from /var/folders/1k/0mbw6yb531v01963w262zblc682jgh/T/tmp68LhDU/model.ckpt-1001\n",
      "INFO:tensorflow:Finished evaluation at 2018-01-19-12:05:39\n",
      "INFO:tensorflow:Saving dict for global step 1001: global_step = 1001, loss = 43.41011\n",
      "(100,) {'loss': 43.41011, 'global_step': 1001}\n"
     ]
    },
    {
     "data": {
      "image/png": "[encoded data removed]",
      "text/plain": [
       "<matplotlib.figure.Figure at 0x11bfbf1d0>"
      ]
     },
     "metadata": {},
     "output_type": "display_data"
    }
   ],
   "source": [
    "estimator = tf.estimator.Estimator(model_fn=model_funx, params = {\"learning_rate\": 0.02})\n",
    "estimator.train(input_fn=input_fn)\n",
    "res = np.array([i for i in estimator.predict(input_fn=predict_input_fn)])\n",
    "loss_res = estimator.evaluate(input_fn=predict_input_fn)\n",
    "print res.shape, loss_res\n",
    "plt.plot(X, res, \"g\")\n",
    "plt.plot(X, Y, \"r.\")\n",
    "plt.show()"
   ]
  },
  {
   "cell_type": "markdown",
   "metadata": {},
   "source": [
    "**Playground**"
   ]
  },
  {
   "cell_type": "code",
   "execution_count": 18,
   "metadata": {},
   "outputs": [
    {
     "name": "stdout",
     "output_type": "stream",
     "text": [
      "(3, 3) [[1 2 3]\n",
      " [4 5 6]\n",
      " [7 8 9]]\n",
      "[[ 3  4  5]\n",
      " [ 6  7  8]\n",
      " [ 9 10 11]]\n",
      "[1 2 3]\n",
      "[[ 42  48  54]\n",
      " [ 96 111 126]\n",
      " [150 174 198]]\n"
     ]
    }
   ],
   "source": [
    "npa = np.array(range(1,10)).reshape(3,-1)\n",
    "npb = npa + 2\n",
    "print npa.shape, npa\n",
    "print npb\n",
    "print npa[0,:]\n",
    "\n",
    "print npa.dot(npb)"
   ]
  },
  {
   "cell_type": "code",
   "execution_count": 19,
   "metadata": {},
   "outputs": [
    {
     "name": "stdout",
     "output_type": "stream",
     "text": [
      "[array([[ 42.,  48.,  54.],\n",
      "       [ 96., 111., 126.],\n",
      "       [150., 174., 198.]], dtype=float32)]\n"
     ]
    }
   ],
   "source": [
    "with tf.Session() as sess:\n",
    "    a = tf.constant(npa, dtype=tf.float32)\n",
    "    b = tf.constant(npb, dtype=tf.float32)\n",
    "    sess.run(init)\n",
    "    print sess.run([tf.matmul(a, b)])"
   ]
  },
  {
   "cell_type": "markdown",
   "metadata": {},
   "source": [
    "**Shape (1,3,3)**"
   ]
  },
  {
   "cell_type": "code",
   "execution_count": 20,
   "metadata": {},
   "outputs": [
    {
     "name": "stdout",
     "output_type": "stream",
     "text": [
      "(1, 3, 3) [[[1 2 3]\n",
      "  [4 5 6]\n",
      "  [7 8 9]]]\n",
      "[[[ 3  4  5]\n",
      "  [ 6  7  8]\n",
      "  [ 9 10 11]]]\n",
      "[[1 2 3]\n",
      " [4 5 6]\n",
      " [7 8 9]]\n",
      "[[[[ 42  48  54]]\n",
      "\n",
      "  [[ 96 111 126]]\n",
      "\n",
      "  [[150 174 198]]]]\n"
     ]
    }
   ],
   "source": [
    "npa = np.array(range(1,10)).reshape(1,3,-1)\n",
    "npb = npa + 2\n",
    "print npa.shape, npa\n",
    "print npb\n",
    "print npa[0,:]\n",
    "\n",
    "print npa.dot(npb)"
   ]
  },
  {
   "cell_type": "code",
   "execution_count": 21,
   "metadata": {},
   "outputs": [
    {
     "name": "stdout",
     "output_type": "stream",
     "text": [
      "[array([[[ 42.,  48.,  54.],\n",
      "        [ 96., 111., 126.],\n",
      "        [150., 174., 198.]]], dtype=float32)]\n"
     ]
    }
   ],
   "source": [
    "with tf.Session() as sess:\n",
    "    a = tf.constant(npa, dtype=tf.float32)\n",
    "    b = tf.constant(npb, dtype=tf.float32)\n",
    "    sess.run(init)\n",
    "    print sess.run([tf.matmul(a, b)])"
   ]
  },
  {
   "cell_type": "markdown",
   "metadata": {},
   "source": [
    "**Shape(2,3,3)**"
   ]
  },
  {
   "cell_type": "code",
   "execution_count": 22,
   "metadata": {},
   "outputs": [
    {
     "name": "stdout",
     "output_type": "stream",
     "text": [
      "(2, 3, 3) [[[1 2 3]\n",
      "  [4 5 6]\n",
      "  [7 8 9]]\n",
      "\n",
      " [[1 2 3]\n",
      "  [4 5 6]\n",
      "  [7 8 9]]]\n",
      "[[[ 3  4  5]\n",
      "  [ 6  7  8]\n",
      "  [ 9 10 11]]\n",
      "\n",
      " [[ 3  4  5]\n",
      "  [ 6  7  8]\n",
      "  [ 9 10 11]]]\n",
      "[[1 2 3]\n",
      " [4 5 6]\n",
      " [7 8 9]]\n",
      "[[[[ 42  48  54]\n",
      "   [ 42  48  54]]\n",
      "\n",
      "  [[ 96 111 126]\n",
      "   [ 96 111 126]]\n",
      "\n",
      "  [[150 174 198]\n",
      "   [150 174 198]]]\n",
      "\n",
      "\n",
      " [[[ 42  48  54]\n",
      "   [ 42  48  54]]\n",
      "\n",
      "  [[ 96 111 126]\n",
      "   [ 96 111 126]]\n",
      "\n",
      "  [[150 174 198]\n",
      "   [150 174 198]]]]\n"
     ]
    }
   ],
   "source": [
    "npa = np.array(range(1,10)).reshape(3,-1)\n",
    "npa = np.stack([npa, npa], axis=0)\n",
    "npb = npa + 2\n",
    "print npa.shape, npa\n",
    "print npb\n",
    "print npa[0,:]\n",
    "\n",
    "print npa.dot(npb)"
   ]
  },
  {
   "cell_type": "code",
   "execution_count": 23,
   "metadata": {},
   "outputs": [
    {
     "name": "stdout",
     "output_type": "stream",
     "text": [
      "[array([[[ 42.,  48.,  54.],\n",
      "        [ 96., 111., 126.],\n",
      "        [150., 174., 198.]],\n",
      "\n",
      "       [[ 42.,  48.,  54.],\n",
      "        [ 96., 111., 126.],\n",
      "        [150., 174., 198.]]], dtype=float32)]\n"
     ]
    }
   ],
   "source": [
    "with tf.Session() as sess:\n",
    "    a = tf.constant(npa, dtype=tf.float32)\n",
    "    b = tf.constant(npb, dtype=tf.float32)\n",
    "    sess.run(init)\n",
    "    print sess.run([tf.matmul(a, b)])"
   ]
  },
  {
   "cell_type": "markdown",
   "metadata": {},
   "source": [
    "# Polynomial regression"
   ]
  },
  {
   "cell_type": "code",
   "execution_count": 74,
   "metadata": {},
   "outputs": [
    {
     "name": "stdout",
     "output_type": "stream",
     "text": [
      "INFO:tensorflow:Using default config.\n",
      "WARNING:tensorflow:Using temporary folder as model directory: /var/folders/1k/0mbw6yb531v01963w262zblc682jgh/T/tmpLWRRDF\n",
      "INFO:tensorflow:Using config: {'_save_checkpoints_secs': 600, '_session_config': None, '_keep_checkpoint_max': 5, '_task_type': 'worker', '_is_chief': True, '_cluster_spec': <tensorflow.python.training.server_lib.ClusterSpec object at 0x11e681390>, '_save_checkpoints_steps': None, '_keep_checkpoint_every_n_hours': 10000, '_service': None, '_num_ps_replicas': 0, '_tf_random_seed': None, '_master': '', '_num_worker_replicas': 1, '_task_id': 0, '_log_step_count_steps': 100, '_model_dir': '/var/folders/1k/0mbw6yb531v01963w262zblc682jgh/T/tmpLWRRDF', '_save_summary_steps': 100}\n",
      "INFO:tensorflow:Create CheckpointSaverHook.\n",
      "INFO:tensorflow:Saving checkpoints for 1 into /var/folders/1k/0mbw6yb531v01963w262zblc682jgh/T/tmpLWRRDF/model.ckpt.\n",
      "INFO:tensorflow:loss = 1363.1824, step = 1\n",
      "INFO:tensorflow:global_step/sec: 893.521\n",
      "INFO:tensorflow:loss = 43.704643, step = 101 (0.114 sec)\n",
      "INFO:tensorflow:global_step/sec: 1119.86\n",
      "INFO:tensorflow:loss = 15.841631, step = 201 (0.089 sec)\n",
      "INFO:tensorflow:global_step/sec: 1124.89\n",
      "INFO:tensorflow:loss = 16.336231, step = 301 (0.089 sec)\n",
      "INFO:tensorflow:global_step/sec: 1133.46\n",
      "INFO:tensorflow:loss = 7.1738005, step = 401 (0.088 sec)\n",
      "INFO:tensorflow:global_step/sec: 1143.65\n",
      "INFO:tensorflow:loss = 10.912702, step = 501 (0.088 sec)\n",
      "INFO:tensorflow:global_step/sec: 1110.58\n",
      "INFO:tensorflow:loss = 10.178694, step = 601 (0.090 sec)\n",
      "INFO:tensorflow:global_step/sec: 1147.89\n",
      "INFO:tensorflow:loss = 14.410841, step = 701 (0.087 sec)\n",
      "INFO:tensorflow:global_step/sec: 1124.17\n",
      "INFO:tensorflow:loss = 15.113157, step = 801 (0.089 sec)\n",
      "INFO:tensorflow:global_step/sec: 1101.2\n",
      "INFO:tensorflow:loss = 4.283928, step = 901 (0.091 sec)\n",
      "INFO:tensorflow:Saving checkpoints for 1000 into /var/folders/1k/0mbw6yb531v01963w262zblc682jgh/T/tmpLWRRDF/model.ckpt.\n",
      "INFO:tensorflow:Loss for final step: 7.456993.\n"
     ]
    },
    {
     "data": {
      "text/plain": [
       "<tensorflow.python.estimator.canned.linear.LinearRegressor at 0x11c9d8f90>"
      ]
     },
     "execution_count": 74,
     "metadata": {},
     "output_type": "execute_result"
    }
   ],
   "source": [
    "p = 4\n",
    "features = {\"X\"+str(i): X**i for i in range(1,p+1)}\n",
    "feature_columns = [tf.feature_column.numeric_column(\"X\"+str(x)) for x in range (1, p+1)]\n",
    "lr = tf.estimator.LinearRegressor(feature_columns=feature_columns)\n",
    "input_fn = tf.estimator.inputs.numpy_input_fn(features, Y, batch_size=10, num_epochs=100, shuffle=True)\n",
    "lr.train(input_fn=input_fn)"
   ]
  },
  {
   "cell_type": "code",
   "execution_count": 75,
   "metadata": {},
   "outputs": [
    {
     "name": "stdout",
     "output_type": "stream",
     "text": [
      "INFO:tensorflow:Starting evaluation at 2018-01-19-12:26:42\n",
      "INFO:tensorflow:Restoring parameters from /var/folders/1k/0mbw6yb531v01963w262zblc682jgh/T/tmpLWRRDF/model.ckpt-1000\n",
      "INFO:tensorflow:Finished evaluation at 2018-01-19-12:26:43\n",
      "INFO:tensorflow:Saving dict for global step 1000: average_loss = 1.034121, global_step = 1000, loss = 103.41211\n",
      "INFO:tensorflow:Restoring parameters from /var/folders/1k/0mbw6yb531v01963w262zblc682jgh/T/tmpLWRRDF/model.ckpt-1000\n",
      "(100, 1) 1.034121\n"
     ]
    },
    {
     "data": {
      "image/png": "[encoded data removed]",
      "text/plain": [
       "<matplotlib.figure.Figure at 0x11d54f3d0>"
      ]
     },
     "metadata": {},
     "output_type": "display_data"
    }
   ],
   "source": [
    "predict_input_fn = tf.estimator.inputs.numpy_input_fn(features, Y, shuffle=False)\n",
    "loss_res = (lr.evaluate(input_fn=predict_input_fn))[\"average_loss\"] \n",
    "res = np.array([i[\"predictions\"] for i in lr.predict(input_fn=predict_input_fn)])\n",
    "print res.shape, loss_res\n",
    "plt.plot(X, Y, 'r.')\n",
    "plt.plot(X, res, 'g')\n",
    "plt.show()\n"
   ]
  },
  {
   "cell_type": "code",
   "execution_count": 76,
   "metadata": {},
   "outputs": [
    {
     "data": {
      "text/plain": [
       "[('global_step', 1000),\n",
       " ('linear/linear_model/X1/weights', array([[2.5568335]], dtype=float32)),\n",
       " ('linear/linear_model/X1/weights/part_0/Ftrl',\n",
       "  array([[978489.2]], dtype=float32)),\n",
       " ('linear/linear_model/X1/weights/part_0/Ftrl_1',\n",
       "  array([[-12645.92]], dtype=float32)),\n",
       " ('linear/linear_model/X2/weights', array([[-0.09062976]], dtype=float32)),\n",
       " ('linear/linear_model/X2/weights/part_0/Ftrl',\n",
       "  array([[2341429.8]], dtype=float32)),\n",
       " ('linear/linear_model/X2/weights/part_0/Ftrl_1',\n",
       "  array([[693.39606]], dtype=float32)),\n",
       " ('linear/linear_model/X3/weights', array([[1.74758]], dtype=float32)),\n",
       " ('linear/linear_model/X3/weights/part_0/Ftrl',\n",
       "  array([[20259024.]], dtype=float32)),\n",
       " ('linear/linear_model/X3/weights/part_0/Ftrl_1',\n",
       "  array([[-39329.31]], dtype=float32)),\n",
       " ('linear/linear_model/X4/weights', array([[0.8296776]], dtype=float32)),\n",
       " ('linear/linear_model/X4/weights/part_0/Ftrl',\n",
       "  array([[1.0679629e+08]], dtype=float32)),\n",
       " ('linear/linear_model/X4/weights/part_0/Ftrl_1',\n",
       "  array([[-42870.387]], dtype=float32)),\n",
       " ('linear/linear_model/bias_weights', array([3.1230655], dtype=float32)),\n",
       " ('linear/linear_model/bias_weights/part_0/Ftrl',\n",
       "  array([203507.03], dtype=float32)),\n",
       " ('linear/linear_model/bias_weights/part_0/Ftrl_1',\n",
       "  array([-7044.3477], dtype=float32))]"
      ]
     },
     "execution_count": 76,
     "metadata": {},
     "output_type": "execute_result"
    }
   ],
   "source": [
    "[(i, lr.get_variable_value(i)) for i in lr.get_variable_names()]\n"
   ]
  },
  {
   "cell_type": "code",
   "execution_count": null,
   "metadata": {
    "collapsed": true
   },
   "outputs": [],
   "source": []
  }
 ],
 "metadata": {
  "kernelspec": {
   "display_name": "Python 2",
   "language": "python",
   "name": "python2"
  },
  "language_info": {
   "codemirror_mode": {
    "name": "ipython",
    "version": 2
   },
   "file_extension": ".py",
   "mimetype": "text/x-python",
   "name": "python",
   "nbconvert_exporter": "python",
   "pygments_lexer": "ipython2",
   "version": "2.7.14"
  }
 },
 "nbformat": 4,
 "nbformat_minor": 2
}

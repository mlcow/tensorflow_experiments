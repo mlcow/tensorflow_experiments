{
 "cells": [
  {
   "cell_type": "code",
   "execution_count": 7,
   "metadata": {
    "collapsed": true
   },
   "outputs": [],
   "source": [
    "import tensorflow as tf\n",
    "import numpy as np\n",
    "import matplotlib.pyplot as plt"
   ]
  },
  {
   "cell_type": "code",
   "execution_count": 10,
   "metadata": {
    "collapsed": true
   },
   "outputs": [],
   "source": [
    "#c = tf.constant(1)\n",
    "#d = tf.Variable(1)"
   ]
  },
  {
   "cell_type": "markdown",
   "metadata": {},
   "source": [
    "* Linear regression.\n",
    "* Loss parametric of (w)\n",
    "* Compute gradients and update\n",
    "* Use optimizer to minimize loss\n",
    "* Use LinearRegression (estimator) to find a line\n",
    "* play and see how loss is effected\n",
    "* Create custom Estimator based on optimizer which can be used as a package\n",
    "\n",
    "* Redo the whole thing for various parametric forms. [[degree n]]"
   ]
  },
  {
   "cell_type": "markdown",
   "metadata": {},
   "source": [
    "# Data"
   ]
  },
  {
   "cell_type": "code",
   "execution_count": 100,
   "metadata": {},
   "outputs": [
    {
     "data": {
      "image/png": "[encoded data removed]",
      "text/plain": [
       "<matplotlib.figure.Figure at 0x1822517a10>"
      ]
     },
     "metadata": {},
     "output_type": "display_data"
    }
   ],
   "source": [
    "X = np.linspace(-3, 2, 100)\n",
    "Y = X**4 + 2*X**3 - X**2 + X * 2 + 4 + np.random.normal(0, 1,X.size)\n",
    "plt.plot(X, Y, 'r.')\n",
    "plt.show()"
   ]
  },
  {
   "cell_type": "markdown",
   "metadata": {},
   "source": [
    "# numpy"
   ]
  },
  {
   "cell_type": "code",
   "execution_count": 107,
   "metadata": {},
   "outputs": [],
   "source": [
    "p = 1\n",
    "_X = X.reshape(-1,1)\n",
    "X_input = np.hstack([_X**n for n in range(p + 1)])\n",
    "\n",
    "w = np.random.normal(0, 1, p + 1)\n",
    "\n",
    "Y_pred = X_input.dot(w)"
   ]
  },
  {
   "cell_type": "code",
   "execution_count": 108,
   "metadata": {},
   "outputs": [
    {
     "data": {
      "text/plain": [
       "((100,), (100, 2), (100,), (2,))"
      ]
     },
     "execution_count": 108,
     "metadata": {},
     "output_type": "execute_result"
    }
   ],
   "source": [
    "Y_pred.shape, X_input.shape, X.shape, w.shape"
   ]
  },
  {
   "cell_type": "code",
   "execution_count": 109,
   "metadata": {},
   "outputs": [
    {
     "data": {
      "image/png": "[encoded data removed]",
      "text/plain": [
       "<matplotlib.figure.Figure at 0x1821fc1990>"
      ]
     },
     "metadata": {},
     "output_type": "display_data"
    }
   ],
   "source": [
    "plt.plot(X, Y, 'r.')\n",
    "plt.plot(X, Y_pred, 'b')\n",
    "plt.ylim(-3, 40)\n",
    "plt.show()"
   ]
  },
  {
   "cell_type": "markdown",
   "metadata": {},
   "source": [
    "### hstack"
   ]
  },
  {
   "cell_type": "code",
   "execution_count": 105,
   "metadata": {
    "collapsed": true
   },
   "outputs": [],
   "source": [
    "t=np.array([1,2,3,4]).reshape(-1,1)"
   ]
  },
  {
   "cell_type": "code",
   "execution_count": 90,
   "metadata": {},
   "outputs": [
    {
     "data": {
      "text/plain": [
       "array([[1, 1, 1],\n",
       "       [2, 2, 2],\n",
       "       [3, 3, 3],\n",
       "       [4, 4, 4]])"
      ]
     },
     "execution_count": 90,
     "metadata": {},
     "output_type": "execute_result"
    }
   ],
   "source": [
    "np.hstack([t,t,t])\n",
    "# hstack binds .. but the data should have been reshaped. It treats (x,) ~ vectors as (1,x) while joining them"
   ]
  },
  {
   "cell_type": "markdown",
   "metadata": {},
   "source": [
    "# TF -- scalars"
   ]
  },
  {
   "cell_type": "code",
   "execution_count": 167,
   "metadata": {},
   "outputs": [
    {
     "name": "stdout",
     "output_type": "stream",
     "text": [
      "<unknown>\n"
     ]
    }
   ],
   "source": [
    "# Define a single operation\n",
    "# Operation is on a placeholder\n",
    "x = tf.placeholder(dtype=tf.float32)\n",
    "y_pred = tf.placeholder(dtype=tf.float32)\n",
    "\n",
    "# variables\n",
    "b = tf.Variable([1], dtype=tf.float32)\n",
    "w = tf.Variable([-1], dtype=tf.float32)\n",
    "\n",
    "# y\n",
    "\n",
    "y = b + x * w\n",
    "print y.shape\n",
    "\n",
    "# loss\n",
    "error = y_pred - y\n",
    "loss = tf.reduce_sum(error ** 2)"
   ]
  },
  {
   "cell_type": "code",
   "execution_count": 168,
   "metadata": {
    "scrolled": true
   },
   "outputs": [
    {
     "data": {
      "image/png": "[encoded data removed]",
      "text/plain": [
       "<matplotlib.figure.Figure at 0x1821d56a50>"
      ]
     },
     "metadata": {},
     "output_type": "display_data"
    }
   ],
   "source": [
    "res = None\n",
    "init = tf.global_variables_initializer()\n",
    "with tf.Session() as sess:\n",
    "    sess.run(init)\n",
    "    res = sess.run(y, {x: X})\n",
    "\n",
    "res.shape\n",
    "plt.plot(X, Y, 'r.')\n",
    "plt.plot(X, res, 'g')\n",
    "plt.show()"
   ]
  },
  {
   "cell_type": "markdown",
   "metadata": {},
   "source": [
    "### Optimizer"
   ]
  },
  {
   "cell_type": "code",
   "execution_count": 254,
   "metadata": {},
   "outputs": [],
   "source": [
    "learning_rate = 1e-5\n",
    "gdo = tf.train.GradientDescentOptimizer(learning_rate)\n",
    "optimizer = gdo.minimize(loss)"
   ]
  },
  {
   "cell_type": "code",
   "execution_count": 255,
   "metadata": {},
   "outputs": [
    {
     "name": "stdout",
     "output_type": "stream",
     "text": [
      "[ 3.46838522] [ 5.80905914]\n",
      "(100,) 44.9222119141\n"
     ]
    },
    {
     "data": {
      "image/png": "[encoded data removed]",
      "text/plain": [
       "<matplotlib.figure.Figure at 0x182375d250>"
      ]
     },
     "metadata": {},
     "output_type": "display_data"
    }
   ],
   "source": [
    "n_steps = 1000\n",
    "with tf.Session() as sess:\n",
    "    sess.run(init)\n",
    "    for i in range(n_steps):\n",
    "        (_, w_val, b_val) = sess.run((optimizer, w, b), {x: X, y_pred: Y})\n",
    "    print w_val, b_val\n",
    "    (res, loss_res) = sess.run((y, loss), {x: X, y_pred: Y})\n",
    "\n",
    "print res.shape, loss_res / X.shape[0]\n",
    "plt.plot(X, Y, 'r.')\n",
    "plt.plot(X, res, 'g')\n",
    "plt.show()"
   ]
  },
  {
   "cell_type": "markdown",
   "metadata": {},
   "source": [
    "## TF -- Scalar using LinearRegression"
   ]
  },
  {
   "cell_type": "code",
   "execution_count": 266,
   "metadata": {},
   "outputs": [
    {
     "name": "stdout",
     "output_type": "stream",
     "text": [
      "INFO:tensorflow:Using default config.\n",
      "WARNING:tensorflow:Using temporary folder as model directory: /var/folders/_n/7gq_v92s6xq549134xk8hyts_mxyxb/T/tmpmmFYj9\n",
      "INFO:tensorflow:Using config: {'_save_checkpoints_secs': 600, '_session_config': None, '_keep_checkpoint_max': 5, '_task_type': 'worker', '_is_chief': True, '_cluster_spec': <tensorflow.python.training.server_lib.ClusterSpec object at 0x1822740990>, '_save_checkpoints_steps': None, '_keep_checkpoint_every_n_hours': 10000, '_service': None, '_num_ps_replicas': 0, '_tf_random_seed': None, '_master': '', '_num_worker_replicas': 1, '_task_id': 0, '_log_step_count_steps': 100, '_model_dir': '/var/folders/_n/7gq_v92s6xq549134xk8hyts_mxyxb/T/tmpmmFYj9', '_save_summary_steps': 100}\n",
      "INFO:tensorflow:Create CheckpointSaverHook.\n",
      "INFO:tensorflow:Saving checkpoints for 1 into /var/folders/_n/7gq_v92s6xq549134xk8hyts_mxyxb/T/tmpmmFYj9/model.ckpt.\n",
      "INFO:tensorflow:loss = 1903.08, step = 1\n",
      "INFO:tensorflow:global_step/sec: 1115.95\n",
      "INFO:tensorflow:loss = 425.299, step = 101 (0.092 sec)\n",
      "INFO:tensorflow:global_step/sec: 1413.39\n",
      "INFO:tensorflow:loss = 1106.4, step = 201 (0.070 sec)\n",
      "INFO:tensorflow:global_step/sec: 1368.96\n",
      "INFO:tensorflow:loss = 571.551, step = 301 (0.073 sec)\n",
      "INFO:tensorflow:global_step/sec: 1337.4\n",
      "INFO:tensorflow:loss = 101.155, step = 401 (0.075 sec)\n",
      "INFO:tensorflow:global_step/sec: 1306.13\n",
      "INFO:tensorflow:loss = 107.201, step = 501 (0.077 sec)\n",
      "INFO:tensorflow:global_step/sec: 1236.96\n",
      "INFO:tensorflow:loss = 71.9118, step = 601 (0.081 sec)\n",
      "INFO:tensorflow:global_step/sec: 1248.61\n",
      "INFO:tensorflow:loss = 360.434, step = 701 (0.080 sec)\n",
      "INFO:tensorflow:global_step/sec: 1306.3\n",
      "INFO:tensorflow:loss = 470.442, step = 801 (0.077 sec)\n",
      "INFO:tensorflow:global_step/sec: 1338.17\n",
      "INFO:tensorflow:loss = 509.278, step = 901 (0.074 sec)\n",
      "INFO:tensorflow:Saving checkpoints for 1000 into /var/folders/_n/7gq_v92s6xq549134xk8hyts_mxyxb/T/tmpmmFYj9/model.ckpt.\n",
      "INFO:tensorflow:Loss for final step: 753.226.\n"
     ]
    },
    {
     "data": {
      "text/plain": [
       "<tensorflow.python.estimator.canned.linear.LinearRegressor at 0x1821eebad0>"
      ]
     },
     "execution_count": 266,
     "metadata": {},
     "output_type": "execute_result"
    }
   ],
   "source": [
    "feature_columns = [tf.feature_column.numeric_column(\"X\")]\n",
    "lr = tf.estimator.LinearRegressor(feature_columns=feature_columns)\n",
    "input_fn = tf.estimator.inputs.numpy_input_fn({\"X\": X}, Y, batch_size=10, num_epochs=100, shuffle=True)\n",
    "lr.train(input_fn=input_fn)"
   ]
  },
  {
   "cell_type": "code",
   "execution_count": 267,
   "metadata": {},
   "outputs": [
    {
     "name": "stdout",
     "output_type": "stream",
     "text": [
      "INFO:tensorflow:Starting evaluation at 2018-01-19-10:30:31\n",
      "INFO:tensorflow:Restoring parameters from /var/folders/_n/7gq_v92s6xq549134xk8hyts_mxyxb/T/tmpmmFYj9/model.ckpt-1000\n",
      "INFO:tensorflow:Finished evaluation at 2018-01-19-10:30:31\n",
      "INFO:tensorflow:Saving dict for global step 1000: average_loss = 43.6891, global_step = 1000, loss = 4368.91\n",
      "INFO:tensorflow:Restoring parameters from /var/folders/_n/7gq_v92s6xq549134xk8hyts_mxyxb/T/tmpmmFYj9/model.ckpt-1000\n",
      "(100, 1) 43.6891\n"
     ]
    },
    {
     "data": {
      "image/png": "[encoded data removed]",
      "text/plain": [
       "<matplotlib.figure.Figure at 0x1821eeb090>"
      ]
     },
     "metadata": {},
     "output_type": "display_data"
    }
   ],
   "source": [
    "predict_input_fn = tf.estimator.inputs.numpy_input_fn({\"X\": X}, Y, shuffle=False)\n",
    "loss_res = (lr.evaluate(input_fn=predict_input_fn))[\"average_loss\"] \n",
    "res = np.array([i[\"predictions\"] for i in lr.predict(input_fn=predict_input_fn)])\n",
    "print res.shape, loss_res\n",
    "plt.plot(X, Y, 'r.')\n",
    "plt.plot(X, res, 'g')\n",
    "plt.show()"
   ]
  },
  {
   "cell_type": "code",
   "execution_count": 268,
   "metadata": {},
   "outputs": [
    {
     "data": {
      "text/plain": [
       "[('global_step', 1000),\n",
       " ('linear/linear_model/X/weights', array([[ 3.62284636]], dtype=float32)),\n",
       " ('linear/linear_model/X/weights/part_0/Ftrl',\n",
       "  array([[ 10268971.]], dtype=float32)),\n",
       " ('linear/linear_model/X/weights/part_0/Ftrl_1',\n",
       "  array([[-58047.48046875]], dtype=float32)),\n",
       " ('linear/linear_model/bias_weights', array([ 6.55571985], dtype=float32)),\n",
       " ('linear/linear_model/bias_weights/part_0/Ftrl',\n",
       "  array([ 3119674.5], dtype=float32)),\n",
       " ('linear/linear_model/bias_weights/part_0/Ftrl_1',\n",
       "  array([-57895.52734375], dtype=float32))]"
      ]
     },
     "execution_count": 268,
     "metadata": {},
     "output_type": "execute_result"
    }
   ],
   "source": [
    "[(i, lr.get_variable_value(i)) for i in lr.get_variable_names()]\n"
   ]
  },
  {
   "cell_type": "code",
   "execution_count": 311,
   "metadata": {},
   "outputs": [],
   "source": [
    "def model_funx(features, labels, mode, params=None):\n",
    "    \n",
    "    w = tf.get_variable('w', [1], dtype=tf.float64)\n",
    "    b = tf.get_variable('b', [1], dtype=tf.float64)\n",
    "    x = features['X']\n",
    "    y = w * x + b\n",
    "    \n",
    "    predictions = y\n",
    "    \n",
    "    if mode == tf.estimator.ModeKeys.PREDICT:\n",
    "        return tf.estimator.EstimatorSpec(\n",
    "        mode=mode,\n",
    "        predictions=predictions,\n",
    "        loss=None,\n",
    "        train_op=None\n",
    "    )\n",
    "    \n",
    "    loss = tf.reduce_sum(tf.square(y-labels)) / tf.cast(tf.shape(y), dtype=tf.float64)\n",
    "    global_step = tf.train.get_global_step()\n",
    "\n",
    "    optimizer = tf.train.GradientDescentOptimizer(params.get(\"learning_rate\",0.2))\n",
    "    train_op = tf.group(optimizer.minimize(loss), tf.assign_add(global_step, 1))\n",
    "    \n",
    "    return tf.estimator.EstimatorSpec(\n",
    "        mode=mode,\n",
    "        predictions=predictions,\n",
    "        loss=loss,\n",
    "        train_op=train_op\n",
    "    )"
   ]
  },
  {
   "cell_type": "code",
   "execution_count": 312,
   "metadata": {},
   "outputs": [
    {
     "name": "stdout",
     "output_type": "stream",
     "text": [
      "INFO:tensorflow:Using default config.\n",
      "WARNING:tensorflow:Using temporary folder as model directory: /var/folders/_n/7gq_v92s6xq549134xk8hyts_mxyxb/T/tmpWRAuWD\n",
      "INFO:tensorflow:Using config: {'_save_checkpoints_secs': 600, '_session_config': None, '_keep_checkpoint_max': 5, '_task_type': 'worker', '_is_chief': True, '_cluster_spec': <tensorflow.python.training.server_lib.ClusterSpec object at 0x182279ca90>, '_save_checkpoints_steps': None, '_keep_checkpoint_every_n_hours': 10000, '_service': None, '_num_ps_replicas': 0, '_tf_random_seed': None, '_master': '', '_num_worker_replicas': 1, '_task_id': 0, '_log_step_count_steps': 100, '_model_dir': '/var/folders/_n/7gq_v92s6xq549134xk8hyts_mxyxb/T/tmpWRAuWD', '_save_summary_steps': 100}\n",
      "INFO:tensorflow:Create CheckpointSaverHook.\n",
      "INFO:tensorflow:Saving checkpoints for 1 into /var/folders/_n/7gq_v92s6xq549134xk8hyts_mxyxb/T/tmpWRAuWD/model.ckpt.\n",
      "INFO:tensorflow:loss = 126.238582186, step = 1\n",
      "INFO:tensorflow:global_step/sec: 1180.01\n",
      "INFO:tensorflow:loss = 68.5808565517, step = 101 (0.087 sec)\n",
      "INFO:tensorflow:global_step/sec: 1341.33\n",
      "INFO:tensorflow:loss = 31.5913363637, step = 201 (0.075 sec)\n",
      "INFO:tensorflow:global_step/sec: 1400.34\n",
      "INFO:tensorflow:loss = 37.5485955234, step = 301 (0.071 sec)\n",
      "INFO:tensorflow:global_step/sec: 1332\n",
      "INFO:tensorflow:loss = 15.7539953424, step = 401 (0.075 sec)\n",
      "INFO:tensorflow:global_step/sec: 1281.33\n",
      "INFO:tensorflow:loss = 38.1461342605, step = 501 (0.078 sec)\n",
      "INFO:tensorflow:global_step/sec: 1175.17\n",
      "INFO:tensorflow:loss = 27.3628462844, step = 601 (0.087 sec)\n",
      "INFO:tensorflow:global_step/sec: 1047.3\n",
      "INFO:tensorflow:loss = 72.115608188, step = 701 (0.095 sec)\n",
      "INFO:tensorflow:global_step/sec: 1173.53\n",
      "INFO:tensorflow:loss = 62.9219510265, step = 801 (0.084 sec)\n",
      "INFO:tensorflow:global_step/sec: 1161.89\n",
      "INFO:tensorflow:loss = 8.04986193754, step = 901 (0.086 sec)\n",
      "INFO:tensorflow:Saving checkpoints for 1001 into /var/folders/_n/7gq_v92s6xq549134xk8hyts_mxyxb/T/tmpWRAuWD/model.ckpt.\n",
      "INFO:tensorflow:Loss for final step: 30.7429541289.\n",
      "INFO:tensorflow:Restoring parameters from /var/folders/_n/7gq_v92s6xq549134xk8hyts_mxyxb/T/tmpWRAuWD/model.ckpt-1001\n",
      "INFO:tensorflow:Starting evaluation at 2018-01-19-11:26:00\n",
      "INFO:tensorflow:Restoring parameters from /var/folders/_n/7gq_v92s6xq549134xk8hyts_mxyxb/T/tmpWRAuWD/model.ckpt-1001\n",
      "INFO:tensorflow:Finished evaluation at 2018-01-19-11:26:00\n",
      "INFO:tensorflow:Saving dict for global step 1001: global_step = 1001, loss = 43.5638\n",
      "(100,) {'loss': 43.563843, 'global_step': 1001}\n"
     ]
    },
    {
     "data": {
      "image/png": "[encoded data removed]",
      "text/plain": [
       "<matplotlib.figure.Figure at 0x182281cc10>"
      ]
     },
     "metadata": {},
     "output_type": "display_data"
    }
   ],
   "source": [
    "estimator = tf.estimator.Estimator(model_fn=model_funx, params = {\"learning_rate\": 0.02})\n",
    "estimator.train(input_fn=input_fn)\n",
    "res = np.array([i for i in estimator.predict(input_fn=predict_input_fn)])\n",
    "loss_res = estimator.evaluate(input_fn=predict_input_fn)\n",
    "print res.shape, loss_res\n",
    "plt.plot(X, res, \"g\")\n",
    "plt.plot(X, Y, \"r.\")\n",
    "plt.show()"
   ]
  },
  {
   "cell_type": "code",
   "execution_count": null,
   "metadata": {
    "collapsed": true
   },
   "outputs": [],
   "source": []
  },
  {
   "cell_type": "code",
   "execution_count": null,
   "metadata": {
    "collapsed": true
   },
   "outputs": [],
   "source": []
  }
 ],
 "metadata": {
  "kernelspec": {
   "display_name": "Python 2",
   "language": "python",
   "name": "python2"
  },
  "language_info": {
   "codemirror_mode": {
    "name": "ipython",
    "version": 2
   },
   "file_extension": ".py",
   "mimetype": "text/x-python",
   "name": "python",
   "nbconvert_exporter": "python",
   "pygments_lexer": "ipython2",
   "version": "2.7.14"
  }
 },
 "nbformat": 4,
 "nbformat_minor": 2
}
